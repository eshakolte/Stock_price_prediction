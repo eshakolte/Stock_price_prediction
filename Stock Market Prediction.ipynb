{
 "cells": [
  {
   "cell_type": "code",
   "execution_count": 1,
   "metadata": {},
   "outputs": [],
   "source": [
    "import pandas as pd\n",
    "import pandas_datareader as pdr\n",
    "import numpy as np\n",
    "import matplotlib.pyplot as plt\n",
    "import datetime"
   ]
  },
  {
   "cell_type": "code",
   "execution_count": 2,
   "metadata": {},
   "outputs": [],
   "source": [
    "df = pd.read_csv('Apple_train.csv')"
   ]
  },
  {
   "cell_type": "code",
   "execution_count": 3,
   "metadata": {},
   "outputs": [
    {
     "data": {
      "text/html": [
       "<div>\n",
       "<style scoped>\n",
       "    .dataframe tbody tr th:only-of-type {\n",
       "        vertical-align: middle;\n",
       "    }\n",
       "\n",
       "    .dataframe tbody tr th {\n",
       "        vertical-align: top;\n",
       "    }\n",
       "\n",
       "    .dataframe thead th {\n",
       "        text-align: right;\n",
       "    }\n",
       "</style>\n",
       "<table border=\"1\" class=\"dataframe\">\n",
       "  <thead>\n",
       "    <tr style=\"text-align: right;\">\n",
       "      <th></th>\n",
       "      <th>Unnamed: 0</th>\n",
       "      <th>date</th>\n",
       "      <th>close</th>\n",
       "      <th>high</th>\n",
       "      <th>low</th>\n",
       "      <th>open</th>\n",
       "      <th>volume</th>\n",
       "    </tr>\n",
       "  </thead>\n",
       "  <tbody>\n",
       "    <tr>\n",
       "      <th>0</th>\n",
       "      <td>0.0</td>\n",
       "      <td>25/07/2016</td>\n",
       "      <td>97.34</td>\n",
       "      <td>98.84</td>\n",
       "      <td>96.92</td>\n",
       "      <td>98.250</td>\n",
       "      <td>40382921.0</td>\n",
       "    </tr>\n",
       "    <tr>\n",
       "      <th>1</th>\n",
       "      <td>1.0</td>\n",
       "      <td>26/07/2016</td>\n",
       "      <td>96.67</td>\n",
       "      <td>97.97</td>\n",
       "      <td>96.42</td>\n",
       "      <td>96.820</td>\n",
       "      <td>56239822.0</td>\n",
       "    </tr>\n",
       "    <tr>\n",
       "      <th>2</th>\n",
       "      <td>2.0</td>\n",
       "      <td>27/07/2016</td>\n",
       "      <td>102.95</td>\n",
       "      <td>104.35</td>\n",
       "      <td>102.75</td>\n",
       "      <td>104.265</td>\n",
       "      <td>92344820.0</td>\n",
       "    </tr>\n",
       "    <tr>\n",
       "      <th>3</th>\n",
       "      <td>3.0</td>\n",
       "      <td>28/07/2016</td>\n",
       "      <td>104.34</td>\n",
       "      <td>104.45</td>\n",
       "      <td>102.82</td>\n",
       "      <td>102.830</td>\n",
       "      <td>39869839.0</td>\n",
       "    </tr>\n",
       "    <tr>\n",
       "      <th>4</th>\n",
       "      <td>4.0</td>\n",
       "      <td>29/07/2016</td>\n",
       "      <td>104.21</td>\n",
       "      <td>104.55</td>\n",
       "      <td>103.68</td>\n",
       "      <td>104.190</td>\n",
       "      <td>27733688.0</td>\n",
       "    </tr>\n",
       "  </tbody>\n",
       "</table>\n",
       "</div>"
      ],
      "text/plain": [
       "   Unnamed: 0        date   close    high     low     open      volume\n",
       "0         0.0  25/07/2016   97.34   98.84   96.92   98.250  40382921.0\n",
       "1         1.0  26/07/2016   96.67   97.97   96.42   96.820  56239822.0\n",
       "2         2.0  27/07/2016  102.95  104.35  102.75  104.265  92344820.0\n",
       "3         3.0  28/07/2016  104.34  104.45  102.82  102.830  39869839.0\n",
       "4         4.0  29/07/2016  104.21  104.55  103.68  104.190  27733688.0"
      ]
     },
     "execution_count": 3,
     "metadata": {},
     "output_type": "execute_result"
    }
   ],
   "source": [
    "df.head()"
   ]
  },
  {
   "cell_type": "code",
   "execution_count": 4,
   "metadata": {},
   "outputs": [],
   "source": [
    "df.drop(['Unnamed: 0'], axis = 1, inplace = True)"
   ]
  },
  {
   "cell_type": "code",
   "execution_count": 5,
   "metadata": {},
   "outputs": [
    {
     "data": {
      "text/html": [
       "<div>\n",
       "<style scoped>\n",
       "    .dataframe tbody tr th:only-of-type {\n",
       "        vertical-align: middle;\n",
       "    }\n",
       "\n",
       "    .dataframe tbody tr th {\n",
       "        vertical-align: top;\n",
       "    }\n",
       "\n",
       "    .dataframe thead th {\n",
       "        text-align: right;\n",
       "    }\n",
       "</style>\n",
       "<table border=\"1\" class=\"dataframe\">\n",
       "  <thead>\n",
       "    <tr style=\"text-align: right;\">\n",
       "      <th></th>\n",
       "      <th>date</th>\n",
       "      <th>close</th>\n",
       "      <th>high</th>\n",
       "      <th>low</th>\n",
       "      <th>open</th>\n",
       "      <th>volume</th>\n",
       "    </tr>\n",
       "  </thead>\n",
       "  <tbody>\n",
       "    <tr>\n",
       "      <th>0</th>\n",
       "      <td>25/07/2016</td>\n",
       "      <td>97.34</td>\n",
       "      <td>98.84</td>\n",
       "      <td>96.92</td>\n",
       "      <td>98.250</td>\n",
       "      <td>40382921.0</td>\n",
       "    </tr>\n",
       "    <tr>\n",
       "      <th>1</th>\n",
       "      <td>26/07/2016</td>\n",
       "      <td>96.67</td>\n",
       "      <td>97.97</td>\n",
       "      <td>96.42</td>\n",
       "      <td>96.820</td>\n",
       "      <td>56239822.0</td>\n",
       "    </tr>\n",
       "    <tr>\n",
       "      <th>2</th>\n",
       "      <td>27/07/2016</td>\n",
       "      <td>102.95</td>\n",
       "      <td>104.35</td>\n",
       "      <td>102.75</td>\n",
       "      <td>104.265</td>\n",
       "      <td>92344820.0</td>\n",
       "    </tr>\n",
       "    <tr>\n",
       "      <th>3</th>\n",
       "      <td>28/07/2016</td>\n",
       "      <td>104.34</td>\n",
       "      <td>104.45</td>\n",
       "      <td>102.82</td>\n",
       "      <td>102.830</td>\n",
       "      <td>39869839.0</td>\n",
       "    </tr>\n",
       "    <tr>\n",
       "      <th>4</th>\n",
       "      <td>29/07/2016</td>\n",
       "      <td>104.21</td>\n",
       "      <td>104.55</td>\n",
       "      <td>103.68</td>\n",
       "      <td>104.190</td>\n",
       "      <td>27733688.0</td>\n",
       "    </tr>\n",
       "    <tr>\n",
       "      <th>...</th>\n",
       "      <td>...</td>\n",
       "      <td>...</td>\n",
       "      <td>...</td>\n",
       "      <td>...</td>\n",
       "      <td>...</td>\n",
       "      <td>...</td>\n",
       "    </tr>\n",
       "    <tr>\n",
       "      <th>1252</th>\n",
       "      <td>NaN</td>\n",
       "      <td>NaN</td>\n",
       "      <td>NaN</td>\n",
       "      <td>NaN</td>\n",
       "      <td>NaN</td>\n",
       "      <td>NaN</td>\n",
       "    </tr>\n",
       "    <tr>\n",
       "      <th>1253</th>\n",
       "      <td>NaN</td>\n",
       "      <td>NaN</td>\n",
       "      <td>NaN</td>\n",
       "      <td>NaN</td>\n",
       "      <td>NaN</td>\n",
       "      <td>NaN</td>\n",
       "    </tr>\n",
       "    <tr>\n",
       "      <th>1254</th>\n",
       "      <td>NaN</td>\n",
       "      <td>NaN</td>\n",
       "      <td>NaN</td>\n",
       "      <td>NaN</td>\n",
       "      <td>NaN</td>\n",
       "      <td>NaN</td>\n",
       "    </tr>\n",
       "    <tr>\n",
       "      <th>1255</th>\n",
       "      <td>NaN</td>\n",
       "      <td>NaN</td>\n",
       "      <td>NaN</td>\n",
       "      <td>NaN</td>\n",
       "      <td>NaN</td>\n",
       "      <td>NaN</td>\n",
       "    </tr>\n",
       "    <tr>\n",
       "      <th>1256</th>\n",
       "      <td>NaN</td>\n",
       "      <td>NaN</td>\n",
       "      <td>NaN</td>\n",
       "      <td>NaN</td>\n",
       "      <td>NaN</td>\n",
       "      <td>NaN</td>\n",
       "    </tr>\n",
       "  </tbody>\n",
       "</table>\n",
       "<p>1257 rows × 6 columns</p>\n",
       "</div>"
      ],
      "text/plain": [
       "            date   close    high     low     open      volume\n",
       "0     25/07/2016   97.34   98.84   96.92   98.250  40382921.0\n",
       "1     26/07/2016   96.67   97.97   96.42   96.820  56239822.0\n",
       "2     27/07/2016  102.95  104.35  102.75  104.265  92344820.0\n",
       "3     28/07/2016  104.34  104.45  102.82  102.830  39869839.0\n",
       "4     29/07/2016  104.21  104.55  103.68  104.190  27733688.0\n",
       "...          ...     ...     ...     ...      ...         ...\n",
       "1252         NaN     NaN     NaN     NaN      NaN         NaN\n",
       "1253         NaN     NaN     NaN     NaN      NaN         NaN\n",
       "1254         NaN     NaN     NaN     NaN      NaN         NaN\n",
       "1255         NaN     NaN     NaN     NaN      NaN         NaN\n",
       "1256         NaN     NaN     NaN     NaN      NaN         NaN\n",
       "\n",
       "[1257 rows x 6 columns]"
      ]
     },
     "execution_count": 5,
     "metadata": {},
     "output_type": "execute_result"
    }
   ],
   "source": [
    "df"
   ]
  },
  {
   "cell_type": "code",
   "execution_count": 6,
   "metadata": {},
   "outputs": [],
   "source": [
    "df.dropna(how = 'all',inplace = True)"
   ]
  },
  {
   "cell_type": "code",
   "execution_count": 7,
   "metadata": {},
   "outputs": [
    {
     "data": {
      "text/plain": [
       "dtype('O')"
      ]
     },
     "execution_count": 7,
     "metadata": {},
     "output_type": "execute_result"
    }
   ],
   "source": [
    "df['date'].dtype"
   ]
  },
  {
   "cell_type": "code",
   "execution_count": 8,
   "metadata": {},
   "outputs": [],
   "source": [
    "df['date'] = pd.to_datetime(df['date']).dt.date"
   ]
  },
  {
   "cell_type": "code",
   "execution_count": 9,
   "metadata": {
    "scrolled": true
   },
   "outputs": [
    {
     "data": {
      "text/html": [
       "<div>\n",
       "<style scoped>\n",
       "    .dataframe tbody tr th:only-of-type {\n",
       "        vertical-align: middle;\n",
       "    }\n",
       "\n",
       "    .dataframe tbody tr th {\n",
       "        vertical-align: top;\n",
       "    }\n",
       "\n",
       "    .dataframe thead th {\n",
       "        text-align: right;\n",
       "    }\n",
       "</style>\n",
       "<table border=\"1\" class=\"dataframe\">\n",
       "  <thead>\n",
       "    <tr style=\"text-align: right;\">\n",
       "      <th></th>\n",
       "      <th>date</th>\n",
       "      <th>close</th>\n",
       "      <th>high</th>\n",
       "      <th>low</th>\n",
       "      <th>open</th>\n",
       "      <th>volume</th>\n",
       "    </tr>\n",
       "  </thead>\n",
       "  <tbody>\n",
       "    <tr>\n",
       "      <th>0</th>\n",
       "      <td>2016-07-25</td>\n",
       "      <td>97.34</td>\n",
       "      <td>98.84</td>\n",
       "      <td>96.92</td>\n",
       "      <td>98.250</td>\n",
       "      <td>40382921.0</td>\n",
       "    </tr>\n",
       "    <tr>\n",
       "      <th>1</th>\n",
       "      <td>2016-07-26</td>\n",
       "      <td>96.67</td>\n",
       "      <td>97.97</td>\n",
       "      <td>96.42</td>\n",
       "      <td>96.820</td>\n",
       "      <td>56239822.0</td>\n",
       "    </tr>\n",
       "    <tr>\n",
       "      <th>2</th>\n",
       "      <td>2016-07-27</td>\n",
       "      <td>102.95</td>\n",
       "      <td>104.35</td>\n",
       "      <td>102.75</td>\n",
       "      <td>104.265</td>\n",
       "      <td>92344820.0</td>\n",
       "    </tr>\n",
       "    <tr>\n",
       "      <th>3</th>\n",
       "      <td>2016-07-28</td>\n",
       "      <td>104.34</td>\n",
       "      <td>104.45</td>\n",
       "      <td>102.82</td>\n",
       "      <td>102.830</td>\n",
       "      <td>39869839.0</td>\n",
       "    </tr>\n",
       "    <tr>\n",
       "      <th>4</th>\n",
       "      <td>2016-07-29</td>\n",
       "      <td>104.21</td>\n",
       "      <td>104.55</td>\n",
       "      <td>103.68</td>\n",
       "      <td>104.190</td>\n",
       "      <td>27733688.0</td>\n",
       "    </tr>\n",
       "  </tbody>\n",
       "</table>\n",
       "</div>"
      ],
      "text/plain": [
       "         date   close    high     low     open      volume\n",
       "0  2016-07-25   97.34   98.84   96.92   98.250  40382921.0\n",
       "1  2016-07-26   96.67   97.97   96.42   96.820  56239822.0\n",
       "2  2016-07-27  102.95  104.35  102.75  104.265  92344820.0\n",
       "3  2016-07-28  104.34  104.45  102.82  102.830  39869839.0\n",
       "4  2016-07-29  104.21  104.55  103.68  104.190  27733688.0"
      ]
     },
     "execution_count": 9,
     "metadata": {},
     "output_type": "execute_result"
    }
   ],
   "source": [
    "df.head()"
   ]
  },
  {
   "cell_type": "code",
   "execution_count": 10,
   "metadata": {},
   "outputs": [
    {
     "data": {
      "text/plain": [
       "date       object\n",
       "close     float64\n",
       "high      float64\n",
       "low       float64\n",
       "open      float64\n",
       "volume    float64\n",
       "dtype: object"
      ]
     },
     "execution_count": 10,
     "metadata": {},
     "output_type": "execute_result"
    }
   ],
   "source": [
    "df.dtypes"
   ]
  },
  {
   "cell_type": "code",
   "execution_count": 11,
   "metadata": {},
   "outputs": [],
   "source": [
    "df['date'] = pd.to_datetime(df['date'])"
   ]
  },
  {
   "cell_type": "code",
   "execution_count": 12,
   "metadata": {},
   "outputs": [
    {
     "data": {
      "text/plain": [
       "date      datetime64[ns]\n",
       "close            float64\n",
       "high             float64\n",
       "low              float64\n",
       "open             float64\n",
       "volume           float64\n",
       "dtype: object"
      ]
     },
     "execution_count": 12,
     "metadata": {},
     "output_type": "execute_result"
    }
   ],
   "source": [
    "df.dtypes"
   ]
  },
  {
   "cell_type": "code",
   "execution_count": 13,
   "metadata": {},
   "outputs": [],
   "source": [
    "df.set_index('date', inplace = True)"
   ]
  },
  {
   "cell_type": "code",
   "execution_count": 14,
   "metadata": {},
   "outputs": [
    {
     "data": {
      "text/html": [
       "<div>\n",
       "<style scoped>\n",
       "    .dataframe tbody tr th:only-of-type {\n",
       "        vertical-align: middle;\n",
       "    }\n",
       "\n",
       "    .dataframe tbody tr th {\n",
       "        vertical-align: top;\n",
       "    }\n",
       "\n",
       "    .dataframe thead th {\n",
       "        text-align: right;\n",
       "    }\n",
       "</style>\n",
       "<table border=\"1\" class=\"dataframe\">\n",
       "  <thead>\n",
       "    <tr style=\"text-align: right;\">\n",
       "      <th></th>\n",
       "      <th>close</th>\n",
       "      <th>high</th>\n",
       "      <th>low</th>\n",
       "      <th>open</th>\n",
       "      <th>volume</th>\n",
       "    </tr>\n",
       "    <tr>\n",
       "      <th>date</th>\n",
       "      <th></th>\n",
       "      <th></th>\n",
       "      <th></th>\n",
       "      <th></th>\n",
       "      <th></th>\n",
       "    </tr>\n",
       "  </thead>\n",
       "  <tbody>\n",
       "    <tr>\n",
       "      <th>2016-07-25</th>\n",
       "      <td>97.34</td>\n",
       "      <td>98.84</td>\n",
       "      <td>96.92</td>\n",
       "      <td>98.250</td>\n",
       "      <td>40382921.0</td>\n",
       "    </tr>\n",
       "    <tr>\n",
       "      <th>2016-07-26</th>\n",
       "      <td>96.67</td>\n",
       "      <td>97.97</td>\n",
       "      <td>96.42</td>\n",
       "      <td>96.820</td>\n",
       "      <td>56239822.0</td>\n",
       "    </tr>\n",
       "    <tr>\n",
       "      <th>2016-07-27</th>\n",
       "      <td>102.95</td>\n",
       "      <td>104.35</td>\n",
       "      <td>102.75</td>\n",
       "      <td>104.265</td>\n",
       "      <td>92344820.0</td>\n",
       "    </tr>\n",
       "    <tr>\n",
       "      <th>2016-07-28</th>\n",
       "      <td>104.34</td>\n",
       "      <td>104.45</td>\n",
       "      <td>102.82</td>\n",
       "      <td>102.830</td>\n",
       "      <td>39869839.0</td>\n",
       "    </tr>\n",
       "    <tr>\n",
       "      <th>2016-07-29</th>\n",
       "      <td>104.21</td>\n",
       "      <td>104.55</td>\n",
       "      <td>103.68</td>\n",
       "      <td>104.190</td>\n",
       "      <td>27733688.0</td>\n",
       "    </tr>\n",
       "    <tr>\n",
       "      <th>...</th>\n",
       "      <td>...</td>\n",
       "      <td>...</td>\n",
       "      <td>...</td>\n",
       "      <td>...</td>\n",
       "      <td>...</td>\n",
       "    </tr>\n",
       "    <tr>\n",
       "      <th>2021-05-24</th>\n",
       "      <td>127.10</td>\n",
       "      <td>127.94</td>\n",
       "      <td>125.94</td>\n",
       "      <td>126.010</td>\n",
       "      <td>63092945.0</td>\n",
       "    </tr>\n",
       "    <tr>\n",
       "      <th>2021-05-25</th>\n",
       "      <td>126.90</td>\n",
       "      <td>128.32</td>\n",
       "      <td>126.32</td>\n",
       "      <td>127.820</td>\n",
       "      <td>72009482.0</td>\n",
       "    </tr>\n",
       "    <tr>\n",
       "      <th>2021-05-26</th>\n",
       "      <td>126.85</td>\n",
       "      <td>127.39</td>\n",
       "      <td>126.42</td>\n",
       "      <td>126.955</td>\n",
       "      <td>56575920.0</td>\n",
       "    </tr>\n",
       "    <tr>\n",
       "      <th>2021-05-27</th>\n",
       "      <td>125.28</td>\n",
       "      <td>127.64</td>\n",
       "      <td>125.08</td>\n",
       "      <td>126.440</td>\n",
       "      <td>94625601.0</td>\n",
       "    </tr>\n",
       "    <tr>\n",
       "      <th>2021-05-28</th>\n",
       "      <td>124.61</td>\n",
       "      <td>125.80</td>\n",
       "      <td>124.55</td>\n",
       "      <td>125.570</td>\n",
       "      <td>71311109.0</td>\n",
       "    </tr>\n",
       "  </tbody>\n",
       "</table>\n",
       "<p>1221 rows × 5 columns</p>\n",
       "</div>"
      ],
      "text/plain": [
       "             close    high     low     open      volume\n",
       "date                                                   \n",
       "2016-07-25   97.34   98.84   96.92   98.250  40382921.0\n",
       "2016-07-26   96.67   97.97   96.42   96.820  56239822.0\n",
       "2016-07-27  102.95  104.35  102.75  104.265  92344820.0\n",
       "2016-07-28  104.34  104.45  102.82  102.830  39869839.0\n",
       "2016-07-29  104.21  104.55  103.68  104.190  27733688.0\n",
       "...            ...     ...     ...      ...         ...\n",
       "2021-05-24  127.10  127.94  125.94  126.010  63092945.0\n",
       "2021-05-25  126.90  128.32  126.32  127.820  72009482.0\n",
       "2021-05-26  126.85  127.39  126.42  126.955  56575920.0\n",
       "2021-05-27  125.28  127.64  125.08  126.440  94625601.0\n",
       "2021-05-28  124.61  125.80  124.55  125.570  71311109.0\n",
       "\n",
       "[1221 rows x 5 columns]"
      ]
     },
     "execution_count": 14,
     "metadata": {},
     "output_type": "execute_result"
    }
   ],
   "source": [
    "df"
   ]
  },
  {
   "cell_type": "code",
   "execution_count": 15,
   "metadata": {},
   "outputs": [
    {
     "data": {
      "text/plain": [
       "close     False\n",
       "high      False\n",
       "low       False\n",
       "open      False\n",
       "volume    False\n",
       "dtype: bool"
      ]
     },
     "execution_count": 15,
     "metadata": {},
     "output_type": "execute_result"
    }
   ],
   "source": [
    "df.isna().any()"
   ]
  },
  {
   "cell_type": "code",
   "execution_count": 16,
   "metadata": {},
   "outputs": [
    {
     "data": {
      "text/plain": [
       "<matplotlib.axes._subplots.AxesSubplot at 0x1f24959fdc8>"
      ]
     },
     "execution_count": 16,
     "metadata": {},
     "output_type": "execute_result"
    },
    {
     "data": {
      "image/png": "[encoded data removed]",
      "text/plain": [
       "<Figure size 1152x432 with 1 Axes>"
      ]
     },
     "metadata": {
      "needs_background": "light"
     },
     "output_type": "display_data"
    }
   ],
   "source": [
    "df['open'].plot(figsize = (16,6))"
   ]
  },
  {
   "cell_type": "code",
   "execution_count": 17,
   "metadata": {},
   "outputs": [],
   "source": [
    "df['volume'] = df['volume'].astype(float)"
   ]
  },
  {
   "cell_type": "code",
   "execution_count": 18,
   "metadata": {},
   "outputs": [
    {
     "name": "stdout",
     "output_type": "stream",
     "text": [
      "<class 'pandas.core.frame.DataFrame'>\n",
      "DatetimeIndex: 1221 entries, 2016-07-25 to 2021-05-28\n",
      "Data columns (total 5 columns):\n",
      " #   Column  Non-Null Count  Dtype  \n",
      "---  ------  --------------  -----  \n",
      " 0   close   1221 non-null   float64\n",
      " 1   high    1221 non-null   float64\n",
      " 2   low     1221 non-null   float64\n",
      " 3   open    1221 non-null   float64\n",
      " 4   volume  1221 non-null   float64\n",
      "dtypes: float64(5)\n",
      "memory usage: 57.2 KB\n"
     ]
    }
   ],
   "source": [
    "df.info()"
   ]
  },
  {
   "cell_type": "code",
   "execution_count": 19,
   "metadata": {},
   "outputs": [
    {
     "data": {
      "text/html": [
       "<div>\n",
       "<style scoped>\n",
       "    .dataframe tbody tr th:only-of-type {\n",
       "        vertical-align: middle;\n",
       "    }\n",
       "\n",
       "    .dataframe tbody tr th {\n",
       "        vertical-align: top;\n",
       "    }\n",
       "\n",
       "    .dataframe thead th {\n",
       "        text-align: right;\n",
       "    }\n",
       "</style>\n",
       "<table border=\"1\" class=\"dataframe\">\n",
       "  <thead>\n",
       "    <tr style=\"text-align: right;\">\n",
       "      <th></th>\n",
       "      <th>close</th>\n",
       "      <th>high</th>\n",
       "      <th>low</th>\n",
       "      <th>open</th>\n",
       "      <th>volume</th>\n",
       "    </tr>\n",
       "    <tr>\n",
       "      <th>date</th>\n",
       "      <th></th>\n",
       "      <th></th>\n",
       "      <th></th>\n",
       "      <th></th>\n",
       "      <th></th>\n",
       "    </tr>\n",
       "  </thead>\n",
       "  <tbody>\n",
       "    <tr>\n",
       "      <th>2016-07-25</th>\n",
       "      <td>NaN</td>\n",
       "      <td>NaN</td>\n",
       "      <td>NaN</td>\n",
       "      <td>NaN</td>\n",
       "      <td>NaN</td>\n",
       "    </tr>\n",
       "    <tr>\n",
       "      <th>2016-07-26</th>\n",
       "      <td>NaN</td>\n",
       "      <td>NaN</td>\n",
       "      <td>NaN</td>\n",
       "      <td>NaN</td>\n",
       "      <td>NaN</td>\n",
       "    </tr>\n",
       "    <tr>\n",
       "      <th>2016-07-27</th>\n",
       "      <td>NaN</td>\n",
       "      <td>NaN</td>\n",
       "      <td>NaN</td>\n",
       "      <td>NaN</td>\n",
       "      <td>NaN</td>\n",
       "    </tr>\n",
       "    <tr>\n",
       "      <th>2016-07-28</th>\n",
       "      <td>NaN</td>\n",
       "      <td>NaN</td>\n",
       "      <td>NaN</td>\n",
       "      <td>NaN</td>\n",
       "      <td>NaN</td>\n",
       "    </tr>\n",
       "    <tr>\n",
       "      <th>2016-07-29</th>\n",
       "      <td>NaN</td>\n",
       "      <td>NaN</td>\n",
       "      <td>NaN</td>\n",
       "      <td>NaN</td>\n",
       "      <td>NaN</td>\n",
       "    </tr>\n",
       "    <tr>\n",
       "      <th>2016-01-08</th>\n",
       "      <td>NaN</td>\n",
       "      <td>NaN</td>\n",
       "      <td>NaN</td>\n",
       "      <td>NaN</td>\n",
       "      <td>NaN</td>\n",
       "    </tr>\n",
       "    <tr>\n",
       "      <th>2016-02-08</th>\n",
       "      <td>102.291429</td>\n",
       "      <td>103.197143</td>\n",
       "      <td>101.571429</td>\n",
       "      <td>102.402143</td>\n",
       "      <td>4.693650e+07</td>\n",
       "    </tr>\n",
       "    <tr>\n",
       "      <th>2016-03-08</th>\n",
       "      <td>103.498571</td>\n",
       "      <td>104.197143</td>\n",
       "      <td>102.692857</td>\n",
       "      <td>103.339286</td>\n",
       "      <td>4.548218e+07</td>\n",
       "    </tr>\n",
       "    <tr>\n",
       "      <th>2016-04-08</th>\n",
       "      <td>104.812857</td>\n",
       "      <td>105.344286</td>\n",
       "      <td>103.958571</td>\n",
       "      <td>104.590714</td>\n",
       "      <td>4.136344e+07</td>\n",
       "    </tr>\n",
       "    <tr>\n",
       "      <th>2016-05-08</th>\n",
       "      <td>105.460000</td>\n",
       "      <td>105.815714</td>\n",
       "      <td>104.448571</td>\n",
       "      <td>104.877143</td>\n",
       "      <td>3.396466e+07</td>\n",
       "    </tr>\n",
       "  </tbody>\n",
       "</table>\n",
       "</div>"
      ],
      "text/plain": [
       "                 close        high         low        open        volume\n",
       "date                                                                    \n",
       "2016-07-25         NaN         NaN         NaN         NaN           NaN\n",
       "2016-07-26         NaN         NaN         NaN         NaN           NaN\n",
       "2016-07-27         NaN         NaN         NaN         NaN           NaN\n",
       "2016-07-28         NaN         NaN         NaN         NaN           NaN\n",
       "2016-07-29         NaN         NaN         NaN         NaN           NaN\n",
       "2016-01-08         NaN         NaN         NaN         NaN           NaN\n",
       "2016-02-08  102.291429  103.197143  101.571429  102.402143  4.693650e+07\n",
       "2016-03-08  103.498571  104.197143  102.692857  103.339286  4.548218e+07\n",
       "2016-04-08  104.812857  105.344286  103.958571  104.590714  4.136344e+07\n",
       "2016-05-08  105.460000  105.815714  104.448571  104.877143  3.396466e+07"
      ]
     },
     "execution_count": 19,
     "metadata": {},
     "output_type": "execute_result"
    }
   ],
   "source": [
    "df.rolling(7).mean().head(10)"
   ]
  },
  {
   "cell_type": "code",
   "execution_count": 20,
   "metadata": {},
   "outputs": [
    {
     "data": {
      "text/plain": [
       "<matplotlib.axes._subplots.AxesSubplot at 0x1f2498c0f08>"
      ]
     },
     "execution_count": 20,
     "metadata": {},
     "output_type": "execute_result"
    },
    {
     "data": {
      "image/png": "[encoded data removed]",
      "text/plain": [
       "<Figure size 1152x432 with 1 Axes>"
      ]
     },
     "metadata": {
      "needs_background": "light"
     },
     "output_type": "display_data"
    }
   ],
   "source": [
    "df['open'].plot(figsize = (16,6))\n",
    "df.rolling(window = 30).mean()['close'].plot()"
   ]
  },
  {
   "cell_type": "code",
   "execution_count": 21,
   "metadata": {},
   "outputs": [
    {
     "data": {
      "text/plain": [
       "<matplotlib.axes._subplots.AxesSubplot at 0x1f24971a608>"
      ]
     },
     "execution_count": 21,
     "metadata": {},
     "output_type": "execute_result"
    },
    {
     "data": {
      "image/png": "[encoded data removed]",
      "text/plain": [
       "<Figure size 1152x432 with 1 Axes>"
      ]
     },
     "metadata": {
      "needs_background": "light"
     },
     "output_type": "display_data"
    }
   ],
   "source": [
    "df['close : 30 day mean'] = df['close'].rolling(window = 30).mean()\n",
    "df[['close', 'close : 30 day mean']].plot(figsize = (16,6))"
   ]
  },
  {
   "cell_type": "code",
   "execution_count": 22,
   "metadata": {},
   "outputs": [
    {
     "data": {
      "text/html": [
       "<div>\n",
       "<style scoped>\n",
       "    .dataframe tbody tr th:only-of-type {\n",
       "        vertical-align: middle;\n",
       "    }\n",
       "\n",
       "    .dataframe tbody tr th {\n",
       "        vertical-align: top;\n",
       "    }\n",
       "\n",
       "    .dataframe thead th {\n",
       "        text-align: right;\n",
       "    }\n",
       "</style>\n",
       "<table border=\"1\" class=\"dataframe\">\n",
       "  <thead>\n",
       "    <tr style=\"text-align: right;\">\n",
       "      <th></th>\n",
       "      <th>close</th>\n",
       "      <th>high</th>\n",
       "      <th>low</th>\n",
       "      <th>open</th>\n",
       "      <th>volume</th>\n",
       "      <th>close : 30 day mean</th>\n",
       "    </tr>\n",
       "    <tr>\n",
       "      <th>date</th>\n",
       "      <th></th>\n",
       "      <th></th>\n",
       "      <th></th>\n",
       "      <th></th>\n",
       "      <th></th>\n",
       "      <th></th>\n",
       "    </tr>\n",
       "  </thead>\n",
       "  <tbody>\n",
       "    <tr>\n",
       "      <th>2016-07-25</th>\n",
       "      <td>97.34</td>\n",
       "      <td>98.84</td>\n",
       "      <td>96.92</td>\n",
       "      <td>98.250</td>\n",
       "      <td>40382921.0</td>\n",
       "      <td>NaN</td>\n",
       "    </tr>\n",
       "    <tr>\n",
       "      <th>2016-07-26</th>\n",
       "      <td>96.67</td>\n",
       "      <td>97.97</td>\n",
       "      <td>96.42</td>\n",
       "      <td>96.820</td>\n",
       "      <td>56239822.0</td>\n",
       "      <td>NaN</td>\n",
       "    </tr>\n",
       "    <tr>\n",
       "      <th>2016-07-27</th>\n",
       "      <td>102.95</td>\n",
       "      <td>104.35</td>\n",
       "      <td>102.75</td>\n",
       "      <td>104.265</td>\n",
       "      <td>92344820.0</td>\n",
       "      <td>NaN</td>\n",
       "    </tr>\n",
       "    <tr>\n",
       "      <th>2016-07-28</th>\n",
       "      <td>104.34</td>\n",
       "      <td>104.45</td>\n",
       "      <td>102.82</td>\n",
       "      <td>102.830</td>\n",
       "      <td>39869839.0</td>\n",
       "      <td>NaN</td>\n",
       "    </tr>\n",
       "    <tr>\n",
       "      <th>2016-07-29</th>\n",
       "      <td>104.21</td>\n",
       "      <td>104.55</td>\n",
       "      <td>103.68</td>\n",
       "      <td>104.190</td>\n",
       "      <td>27733688.0</td>\n",
       "      <td>NaN</td>\n",
       "    </tr>\n",
       "  </tbody>\n",
       "</table>\n",
       "</div>"
      ],
      "text/plain": [
       "             close    high     low     open      volume  close : 30 day mean\n",
       "date                                                                        \n",
       "2016-07-25   97.34   98.84   96.92   98.250  40382921.0                  NaN\n",
       "2016-07-26   96.67   97.97   96.42   96.820  56239822.0                  NaN\n",
       "2016-07-27  102.95  104.35  102.75  104.265  92344820.0                  NaN\n",
       "2016-07-28  104.34  104.45  102.82  102.830  39869839.0                  NaN\n",
       "2016-07-29  104.21  104.55  103.68  104.190  27733688.0                  NaN"
      ]
     },
     "execution_count": 22,
     "metadata": {},
     "output_type": "execute_result"
    }
   ],
   "source": [
    "df.head()"
   ]
  },
  {
   "cell_type": "code",
   "execution_count": 23,
   "metadata": {},
   "outputs": [],
   "source": [
    "df.drop(['close : 30 day mean'], axis = 1, inplace = True)"
   ]
  },
  {
   "cell_type": "code",
   "execution_count": 24,
   "metadata": {},
   "outputs": [
    {
     "data": {
      "text/plain": [
       "<matplotlib.axes._subplots.AxesSubplot at 0x1f2497ac988>"
      ]
     },
     "execution_count": 24,
     "metadata": {},
     "output_type": "execute_result"
    },
    {
     "data": {
      "image/png": "[encoded data removed]",
      "text/plain": [
       "<Figure size 1152x432 with 1 Axes>"
      ]
     },
     "metadata": {
      "needs_background": "light"
     },
     "output_type": "display_data"
    }
   ],
   "source": [
    "df['close'].expanding(min_periods = 1).mean().plot(figsize = (16,6))"
   ]
  },
  {
   "cell_type": "code",
   "execution_count": 25,
   "metadata": {},
   "outputs": [],
   "source": [
    "training_set = df['open']\n",
    "training_set = pd.DataFrame(training_set)"
   ]
  },
  {
   "cell_type": "code",
   "execution_count": 26,
   "metadata": {},
   "outputs": [
    {
     "data": {
      "text/plain": [
       "close     False\n",
       "high      False\n",
       "low       False\n",
       "open      False\n",
       "volume    False\n",
       "dtype: bool"
      ]
     },
     "execution_count": 26,
     "metadata": {},
     "output_type": "execute_result"
    }
   ],
   "source": [
    "df.isna().any()"
   ]
  },
  {
   "cell_type": "markdown",
   "metadata": {},
   "source": [
    "## Data preprocessing"
   ]
  },
  {
   "cell_type": "code",
   "execution_count": 27,
   "metadata": {},
   "outputs": [],
   "source": [
    "from sklearn.preprocessing import MinMaxScaler\n",
    "sc = MinMaxScaler(feature_range = (0, 1))\n",
    "training_set_scaled = sc.fit_transform(training_set)"
   ]
  },
  {
   "cell_type": "code",
   "execution_count": 28,
   "metadata": {},
   "outputs": [],
   "source": [
    "X_train = []\n",
    "y_train = []\n",
    "for i in range(60,1221):\n",
    "    X_train.append(training_set_scaled[i-60:i,0])\n",
    "    y_train.append(training_set_scaled[i,0])\n",
    "X_train, y_train = np.array(X_train), np.array(y_train)"
   ]
  },
  {
   "cell_type": "code",
   "execution_count": 29,
   "metadata": {},
   "outputs": [],
   "source": [
    "X_train = np.reshape(X_train, (X_train.shape[0], X_train.shape[1], 1))"
   ]
  },
  {
   "cell_type": "markdown",
   "metadata": {},
   "source": [
    "## Feature Extraction"
   ]
  },
  {
   "cell_type": "code",
   "execution_count": 30,
   "metadata": {},
   "outputs": [],
   "source": [
    "from tensorflow.keras.models import Sequential\n",
    "from tensorflow.keras.layers import Dense\n",
    "from tensorflow.keras.layers import LSTM\n",
    "from tensorflow.keras.layers import Dropout"
   ]
  },
  {
   "cell_type": "code",
   "execution_count": 31,
   "metadata": {},
   "outputs": [],
   "source": [
    "regressor = Sequential()"
   ]
  },
  {
   "cell_type": "markdown",
   "metadata": {},
   "source": [
    "## Training the Neural Network"
   ]
  },
  {
   "cell_type": "code",
   "execution_count": 32,
   "metadata": {},
   "outputs": [],
   "source": [
    "regressor.add(LSTM(units = 50, return_sequences = True, input_shape = (X_train.shape[1], 1)))\n"
   ]
  },
  {
   "cell_type": "code",
   "execution_count": 33,
   "metadata": {},
   "outputs": [],
   "source": [
    "regressor.add(Dropout(0.2))"
   ]
  },
  {
   "cell_type": "code",
   "execution_count": 34,
   "metadata": {},
   "outputs": [],
   "source": [
    "regressor.add(LSTM(units = 50, return_sequences = True))\n",
    "regressor.add(Dropout(0.2))"
   ]
  },
  {
   "cell_type": "code",
   "execution_count": 35,
   "metadata": {},
   "outputs": [],
   "source": [
    "regressor.add(LSTM(units = 50, return_sequences = True))\n",
    "regressor.add(Dropout(0.2))"
   ]
  },
  {
   "cell_type": "code",
   "execution_count": 36,
   "metadata": {},
   "outputs": [],
   "source": [
    "regressor.add(LSTM(units = 50))\n",
    "regressor.add(Dropout(0.2))"
   ]
  },
  {
   "cell_type": "code",
   "execution_count": 37,
   "metadata": {},
   "outputs": [],
   "source": [
    "# output layer\n",
    "regressor.add(Dense(units = 1))"
   ]
  },
  {
   "cell_type": "code",
   "execution_count": 38,
   "metadata": {},
   "outputs": [],
   "source": [
    "regressor.compile(optimizer = 'adam', loss = 'mean_squared_error')"
   ]
  },
  {
   "cell_type": "code",
   "execution_count": 39,
   "metadata": {},
   "outputs": [
    {
     "name": "stdout",
     "output_type": "stream",
     "text": [
      "Epoch 1/100\n",
      "37/37 [==============================] - 13s 92ms/step - loss: 0.0144\n",
      "Epoch 2/100\n",
      "37/37 [==============================] - 4s 106ms/step - loss: 0.0100\n",
      "Epoch 3/100\n",
      "37/37 [==============================] - 4s 115ms/step - loss: 0.0068\n",
      "Epoch 4/100\n",
      "37/37 [==============================] - 3s 93ms/step - loss: 0.0059\n",
      "Epoch 5/100\n",
      "37/37 [==============================] - 4s 112ms/step - loss: 0.0068\n",
      "Epoch 6/100\n",
      "37/37 [==============================] - 4s 110ms/step - loss: 0.0049\n",
      "Epoch 7/100\n",
      "37/37 [==============================] - 4s 98ms/step - loss: 0.0057\n",
      "Epoch 8/100\n",
      "37/37 [==============================] - 4s 105ms/step - loss: 0.0052\n",
      "Epoch 9/100\n",
      "37/37 [==============================] - 4s 113ms/step - loss: 0.0052\n",
      "Epoch 10/100\n",
      "37/37 [==============================] - 4s 113ms/step - loss: 0.0039\n",
      "Epoch 11/100\n",
      "37/37 [==============================] - 4s 97ms/step - loss: 0.0034\n",
      "Epoch 12/100\n",
      "37/37 [==============================] - 4s 103ms/step - loss: 0.0037\n",
      "Epoch 13/100\n",
      "37/37 [==============================] - 4s 97ms/step - loss: 0.0040\n",
      "Epoch 14/100\n",
      "37/37 [==============================] - 4s 110ms/step - loss: 0.0030\n",
      "Epoch 15/100\n",
      "37/37 [==============================] - 4s 105ms/step - loss: 0.0034\n",
      "Epoch 16/100\n",
      "37/37 [==============================] - 4s 105ms/step - loss: 0.0029\n",
      "Epoch 17/100\n",
      "37/37 [==============================] - 4s 116ms/step - loss: 0.0023\n",
      "Epoch 18/100\n",
      "37/37 [==============================] - 4s 105ms/step - loss: 0.0035\n",
      "Epoch 19/100\n",
      "37/37 [==============================] - 4s 103ms/step - loss: 0.0034\n",
      "Epoch 20/100\n",
      "37/37 [==============================] - 4s 98ms/step - loss: 0.0027\n",
      "Epoch 21/100\n",
      "37/37 [==============================] - 4s 110ms/step - loss: 0.0030\n",
      "Epoch 22/100\n",
      "37/37 [==============================] - 4s 113ms/step - loss: 0.0024\n",
      "Epoch 23/100\n",
      "37/37 [==============================] - 4s 117ms/step - loss: 0.0030\n",
      "Epoch 24/100\n",
      "37/37 [==============================] - 4s 115ms/step - loss: 0.0029\n",
      "Epoch 25/100\n",
      "37/37 [==============================] - 4s 115ms/step - loss: 0.0024\n",
      "Epoch 26/100\n",
      "37/37 [==============================] - 4s 100ms/step - loss: 0.0024\n",
      "Epoch 27/100\n",
      "37/37 [==============================] - 4s 109ms/step - loss: 0.0022\n",
      "Epoch 28/100\n",
      "37/37 [==============================] - 4s 117ms/step - loss: 0.0019\n",
      "Epoch 29/100\n",
      "37/37 [==============================] - 4s 105ms/step - loss: 0.0027\n",
      "Epoch 30/100\n",
      "37/37 [==============================] - 4s 101ms/step - loss: 0.0021\n",
      "Epoch 31/100\n",
      "37/37 [==============================] - 4s 99ms/step - loss: 0.0020\n",
      "Epoch 32/100\n",
      "37/37 [==============================] - 4s 114ms/step - loss: 0.0024\n",
      "Epoch 33/100\n",
      "37/37 [==============================] - 4s 101ms/step - loss: 0.0023\n",
      "Epoch 34/100\n",
      "37/37 [==============================] - 4s 101ms/step - loss: 0.0038 0s - loss: 0.003\n",
      "Epoch 35/100\n",
      "37/37 [==============================] - 4s 112ms/step - loss: 0.0032\n",
      "Epoch 36/100\n",
      "37/37 [==============================] - 4s 101ms/step - loss: 0.0030\n",
      "Epoch 37/100\n",
      "37/37 [==============================] - 4s 111ms/step - loss: 0.0025\n",
      "Epoch 38/100\n",
      "37/37 [==============================] - 4s 102ms/step - loss: 0.0028\n",
      "Epoch 39/100\n",
      "37/37 [==============================] - 4s 119ms/step - loss: 0.0022\n",
      "Epoch 40/100\n",
      "37/37 [==============================] - 4s 107ms/step - loss: 0.0022 2s - loss: - \n",
      "Epoch 41/100\n",
      "37/37 [==============================] - 4s 103ms/step - loss: 0.0016\n",
      "Epoch 42/100\n",
      "37/37 [==============================] - 4s 101ms/step - loss: 0.0019\n",
      "Epoch 43/100\n",
      "37/37 [==============================] - 4s 110ms/step - loss: 0.0025\n",
      "Epoch 44/100\n",
      "37/37 [==============================] - 4s 108ms/step - loss: 0.0031\n",
      "Epoch 45/100\n",
      "37/37 [==============================] - 4s 102ms/step - loss: 0.0025\n",
      "Epoch 46/100\n",
      "37/37 [==============================] - 4s 99ms/step - loss: 0.0021\n",
      "Epoch 47/100\n",
      "37/37 [==============================] - 4s 107ms/step - loss: 0.0026\n",
      "Epoch 48/100\n",
      "37/37 [==============================] - 4s 107ms/step - loss: 0.0021\n",
      "Epoch 49/100\n",
      "37/37 [==============================] - 4s 107ms/step - loss: 0.0019\n",
      "Epoch 50/100\n",
      "37/37 [==============================] - 4s 105ms/step - loss: 0.0021\n",
      "Epoch 51/100\n",
      "37/37 [==============================] - 4s 105ms/step - loss: 0.0017 1s\n",
      "Epoch 52/100\n",
      "37/37 [==============================] - 4s 106ms/step - loss: 0.0021\n",
      "Epoch 53/100\n",
      "37/37 [==============================] - 4s 114ms/step - loss: 0.0015\n",
      "Epoch 54/100\n",
      "37/37 [==============================] - 4s 108ms/step - loss: 0.0026\n",
      "Epoch 55/100\n",
      "37/37 [==============================] - 4s 113ms/step - loss: 0.0030\n",
      "Epoch 56/100\n",
      "37/37 [==============================] - 4s 112ms/step - loss: 0.0027\n",
      "Epoch 57/100\n",
      "37/37 [==============================] - 4s 105ms/step - loss: 0.0029\n",
      "Epoch 58/100\n",
      "37/37 [==============================] - 4s 111ms/step - loss: 0.0018\n",
      "Epoch 59/100\n",
      "37/37 [==============================] - 4s 111ms/step - loss: 0.0025\n",
      "Epoch 60/100\n",
      "37/37 [==============================] - 4s 110ms/step - loss: 0.0019\n",
      "Epoch 61/100\n",
      "37/37 [==============================] - 4s 101ms/step - loss: 0.0019\n",
      "Epoch 62/100\n",
      "37/37 [==============================] - 4s 113ms/step - loss: 0.0026\n",
      "Epoch 63/100\n",
      "37/37 [==============================] - 4s 102ms/step - loss: 0.0019\n",
      "Epoch 64/100\n",
      "37/37 [==============================] - 4s 101ms/step - loss: 0.0021\n",
      "Epoch 65/100\n",
      "37/37 [==============================] - 4s 106ms/step - loss: 0.0021\n",
      "Epoch 66/100\n",
      "37/37 [==============================] - 4s 102ms/step - loss: 0.0020\n",
      "Epoch 67/100\n",
      "37/37 [==============================] - 4s 111ms/step - loss: 0.0018\n",
      "Epoch 68/100\n",
      "37/37 [==============================] - 4s 104ms/step - loss: 0.0015\n",
      "Epoch 69/100\n",
      "37/37 [==============================] - 4s 107ms/step - loss: 0.0016\n",
      "Epoch 70/100\n",
      "37/37 [==============================] - 4s 101ms/step - loss: 0.0017\n",
      "Epoch 71/100\n",
      "37/37 [==============================] - 4s 120ms/step - loss: 0.0014\n",
      "Epoch 72/100\n",
      "37/37 [==============================] - 4s 107ms/step - loss: 0.0019\n",
      "Epoch 73/100\n",
      "37/37 [==============================] - 4s 102ms/step - loss: 0.0015\n",
      "Epoch 74/100\n",
      "37/37 [==============================] - 4s 119ms/step - loss: 0.0013\n",
      "Epoch 75/100\n",
      "37/37 [==============================] - 4s 108ms/step - loss: 0.0016\n",
      "Epoch 76/100\n",
      "37/37 [==============================] - 4s 109ms/step - loss: 0.0016\n",
      "Epoch 77/100\n",
      "37/37 [==============================] - 4s 106ms/step - loss: 0.0018\n",
      "Epoch 78/100\n",
      "37/37 [==============================] - 4s 107ms/step - loss: 0.0015\n",
      "Epoch 79/100\n",
      "37/37 [==============================] - 4s 111ms/step - loss: 0.0016\n",
      "Epoch 80/100\n",
      "37/37 [==============================] - 4s 99ms/step - loss: 0.0022\n",
      "Epoch 81/100\n",
      "37/37 [==============================] - 3s 88ms/step - loss: 0.0011\n",
      "Epoch 82/100\n",
      "37/37 [==============================] - 4s 113ms/step - loss: 0.0014\n",
      "Epoch 83/100\n",
      "37/37 [==============================] - 4s 114ms/step - loss: 0.0017\n",
      "Epoch 84/100\n",
      "37/37 [==============================] - 4s 115ms/step - loss: 0.0016\n",
      "Epoch 85/100\n",
      "37/37 [==============================] - 4s 108ms/step - loss: 0.0012\n",
      "Epoch 86/100\n",
      "37/37 [==============================] - 4s 104ms/step - loss: 0.0023\n",
      "Epoch 87/100\n",
      "37/37 [==============================] - 4s 99ms/step - loss: 0.0021\n",
      "Epoch 88/100\n",
      "37/37 [==============================] - 4s 104ms/step - loss: 0.0013\n",
      "Epoch 89/100\n",
      "37/37 [==============================] - 4s 114ms/step - loss: 0.0012\n",
      "Epoch 90/100\n",
      "37/37 [==============================] - 4s 112ms/step - loss: 0.0014\n",
      "Epoch 91/100\n",
      "37/37 [==============================] - 4s 107ms/step - loss: 0.0015\n",
      "Epoch 92/100\n",
      "37/37 [==============================] - 4s 103ms/step - loss: 0.0016\n",
      "Epoch 93/100\n",
      "37/37 [==============================] - 4s 116ms/step - loss: 0.0017\n",
      "Epoch 94/100\n",
      "37/37 [==============================] - 4s 101ms/step - loss: 0.0024\n",
      "Epoch 95/100\n",
      "37/37 [==============================] - 4s 107ms/step - loss: 0.0014\n",
      "Epoch 96/100\n",
      "37/37 [==============================] - 4s 105ms/step - loss: 0.0012\n",
      "Epoch 97/100\n",
      "37/37 [==============================] - 4s 109ms/step - loss: 0.0012\n",
      "Epoch 98/100\n",
      "37/37 [==============================] - 4s 115ms/step - loss: 0.0015\n",
      "Epoch 99/100\n",
      "37/37 [==============================] - 4s 112ms/step - loss: 0.0027\n",
      "Epoch 100/100\n",
      "37/37 [==============================] - 4s 105ms/step - loss: 0.0021\n"
     ]
    },
    {
     "data": {
      "text/plain": [
       "<tensorflow.python.keras.callbacks.History at 0x240cee5d5c8>"
      ]
     },
     "execution_count": 39,
     "metadata": {},
     "output_type": "execute_result"
    }
   ],
   "source": [
    "regressor.fit(X_train, y_train, epochs = 100, batch_size = 32) "
   ]
  },
  {
   "cell_type": "code",
   "execution_count": 40,
   "metadata": {},
   "outputs": [],
   "source": [
    "dataset_test = pd.read_csv('Apple_test.csv', index_col = \"date\", parse_dates = True)"
   ]
  },
  {
   "cell_type": "code",
   "execution_count": 41,
   "metadata": {},
   "outputs": [],
   "source": [
    "real_stock_price = dataset_test.iloc[:,1:2].values"
   ]
  },
  {
   "cell_type": "code",
   "execution_count": 42,
   "metadata": {},
   "outputs": [
    {
     "data": {
      "text/html": [
       "<div>\n",
       "<style scoped>\n",
       "    .dataframe tbody tr th:only-of-type {\n",
       "        vertical-align: middle;\n",
       "    }\n",
       "\n",
       "    .dataframe tbody tr th {\n",
       "        vertical-align: top;\n",
       "    }\n",
       "\n",
       "    .dataframe thead th {\n",
       "        text-align: right;\n",
       "    }\n",
       "</style>\n",
       "<table border=\"1\" class=\"dataframe\">\n",
       "  <thead>\n",
       "    <tr style=\"text-align: right;\">\n",
       "      <th></th>\n",
       "      <th>close</th>\n",
       "      <th>high</th>\n",
       "      <th>low</th>\n",
       "      <th>open</th>\n",
       "      <th>volume</th>\n",
       "    </tr>\n",
       "    <tr>\n",
       "      <th>date</th>\n",
       "      <th></th>\n",
       "      <th></th>\n",
       "      <th></th>\n",
       "      <th></th>\n",
       "      <th></th>\n",
       "    </tr>\n",
       "  </thead>\n",
       "  <tbody>\n",
       "    <tr>\n",
       "      <th>2021-01-06</th>\n",
       "      <td>124.28</td>\n",
       "      <td>125.35</td>\n",
       "      <td>123.9400</td>\n",
       "      <td>125.08</td>\n",
       "      <td>67637118</td>\n",
       "    </tr>\n",
       "    <tr>\n",
       "      <th>2021-02-06</th>\n",
       "      <td>125.06</td>\n",
       "      <td>125.24</td>\n",
       "      <td>124.0500</td>\n",
       "      <td>124.28</td>\n",
       "      <td>59278862</td>\n",
       "    </tr>\n",
       "    <tr>\n",
       "      <th>2021-03-06</th>\n",
       "      <td>123.54</td>\n",
       "      <td>124.85</td>\n",
       "      <td>123.1300</td>\n",
       "      <td>124.68</td>\n",
       "      <td>76229170</td>\n",
       "    </tr>\n",
       "    <tr>\n",
       "      <th>2021-04-06</th>\n",
       "      <td>125.89</td>\n",
       "      <td>126.16</td>\n",
       "      <td>123.8500</td>\n",
       "      <td>124.07</td>\n",
       "      <td>75169343</td>\n",
       "    </tr>\n",
       "    <tr>\n",
       "      <th>2021-07-06</th>\n",
       "      <td>125.90</td>\n",
       "      <td>126.32</td>\n",
       "      <td>124.8321</td>\n",
       "      <td>126.17</td>\n",
       "      <td>71057550</td>\n",
       "    </tr>\n",
       "  </tbody>\n",
       "</table>\n",
       "</div>"
      ],
      "text/plain": [
       "             close    high       low    open    volume\n",
       "date                                                  \n",
       "2021-01-06  124.28  125.35  123.9400  125.08  67637118\n",
       "2021-02-06  125.06  125.24  124.0500  124.28  59278862\n",
       "2021-03-06  123.54  124.85  123.1300  124.68  76229170\n",
       "2021-04-06  125.89  126.16  123.8500  124.07  75169343\n",
       "2021-07-06  125.90  126.32  124.8321  126.17  71057550"
      ]
     },
     "execution_count": 42,
     "metadata": {},
     "output_type": "execute_result"
    }
   ],
   "source": [
    "dataset_test.head()"
   ]
  },
  {
   "cell_type": "code",
   "execution_count": 43,
   "metadata": {},
   "outputs": [
    {
     "name": "stdout",
     "output_type": "stream",
     "text": [
      "<class 'pandas.core.frame.DataFrame'>\n",
      "DatetimeIndex: 36 entries, 2021-01-06 to 2021-07-21\n",
      "Data columns (total 5 columns):\n",
      " #   Column  Non-Null Count  Dtype  \n",
      "---  ------  --------------  -----  \n",
      " 0   close   36 non-null     float64\n",
      " 1   high    36 non-null     float64\n",
      " 2   low     36 non-null     float64\n",
      " 3   open    36 non-null     float64\n",
      " 4   volume  36 non-null     int64  \n",
      "dtypes: float64(4), int64(1)\n",
      "memory usage: 1.7 KB\n"
     ]
    }
   ],
   "source": [
    "dataset_test.info()"
   ]
  },
  {
   "cell_type": "code",
   "execution_count": 44,
   "metadata": {},
   "outputs": [],
   "source": [
    "test_set = dataset_test['open']\n",
    "test_set = pd.DataFrame(test_set)"
   ]
  },
  {
   "cell_type": "code",
   "execution_count": 45,
   "metadata": {},
   "outputs": [
    {
     "data": {
      "text/html": [
       "<div>\n",
       "<style scoped>\n",
       "    .dataframe tbody tr th:only-of-type {\n",
       "        vertical-align: middle;\n",
       "    }\n",
       "\n",
       "    .dataframe tbody tr th {\n",
       "        vertical-align: top;\n",
       "    }\n",
       "\n",
       "    .dataframe thead th {\n",
       "        text-align: right;\n",
       "    }\n",
       "</style>\n",
       "<table border=\"1\" class=\"dataframe\">\n",
       "  <thead>\n",
       "    <tr style=\"text-align: right;\">\n",
       "      <th></th>\n",
       "      <th>open</th>\n",
       "    </tr>\n",
       "    <tr>\n",
       "      <th>date</th>\n",
       "      <th></th>\n",
       "    </tr>\n",
       "  </thead>\n",
       "  <tbody>\n",
       "    <tr>\n",
       "      <th>2021-01-06</th>\n",
       "      <td>125.08</td>\n",
       "    </tr>\n",
       "    <tr>\n",
       "      <th>2021-02-06</th>\n",
       "      <td>124.28</td>\n",
       "    </tr>\n",
       "    <tr>\n",
       "      <th>2021-03-06</th>\n",
       "      <td>124.68</td>\n",
       "    </tr>\n",
       "    <tr>\n",
       "      <th>2021-04-06</th>\n",
       "      <td>124.07</td>\n",
       "    </tr>\n",
       "    <tr>\n",
       "      <th>2021-07-06</th>\n",
       "      <td>126.17</td>\n",
       "    </tr>\n",
       "  </tbody>\n",
       "</table>\n",
       "</div>"
      ],
      "text/plain": [
       "              open\n",
       "date              \n",
       "2021-01-06  125.08\n",
       "2021-02-06  124.28\n",
       "2021-03-06  124.68\n",
       "2021-04-06  124.07\n",
       "2021-07-06  126.17"
      ]
     },
     "execution_count": 45,
     "metadata": {},
     "output_type": "execute_result"
    }
   ],
   "source": [
    "test_set.head()"
   ]
  },
  {
   "cell_type": "code",
   "execution_count": 46,
   "metadata": {},
   "outputs": [
    {
     "name": "stdout",
     "output_type": "stream",
     "text": [
      "<class 'pandas.core.frame.DataFrame'>\n",
      "DatetimeIndex: 36 entries, 2021-01-06 to 2021-07-21\n",
      "Data columns (total 1 columns):\n",
      " #   Column  Non-Null Count  Dtype  \n",
      "---  ------  --------------  -----  \n",
      " 0   open    36 non-null     float64\n",
      "dtypes: float64(1)\n",
      "memory usage: 576.0 bytes\n"
     ]
    }
   ],
   "source": [
    "test_set.info()"
   ]
  },
  {
   "cell_type": "code",
   "execution_count": 47,
   "metadata": {},
   "outputs": [],
   "source": [
    "dataset_total = pd.concat((df['open'], dataset_test['open']), axis = 0)"
   ]
  },
  {
   "cell_type": "code",
   "execution_count": 48,
   "metadata": {},
   "outputs": [
    {
     "data": {
      "text/plain": [
       "date\n",
       "2016-07-25     98.250\n",
       "2016-07-26     96.820\n",
       "2016-07-27    104.265\n",
       "2016-07-28    102.830\n",
       "2016-07-29    104.190\n",
       "               ...   \n",
       "2021-07-15    149.240\n",
       "2021-07-16    148.460\n",
       "2021-07-19    143.750\n",
       "2021-07-20    143.460\n",
       "2021-07-21    145.530\n",
       "Name: open, Length: 1257, dtype: float64"
      ]
     },
     "execution_count": 48,
     "metadata": {},
     "output_type": "execute_result"
    }
   ],
   "source": [
    "dataset_total"
   ]
  },
  {
   "cell_type": "code",
   "execution_count": 49,
   "metadata": {},
   "outputs": [],
   "source": [
    "inputs = dataset_total[len(dataset_total) - len(dataset_test) - 60:].values\n",
    "inputs = inputs.reshape(-1,1)\n",
    "inputs = sc.transform(inputs)\n",
    "X_test = []"
   ]
  },
  {
   "cell_type": "code",
   "execution_count": 50,
   "metadata": {},
   "outputs": [],
   "source": [
    "for i in range(60,96):\n",
    "    X_test.append(inputs[i-60:i, 0])\n",
    "X_test = np.array(X_test)\n",
    "X_test = np.reshape(X_test, (X_test.shape[0], X_test.shape[1], 1))"
   ]
  },
  {
   "cell_type": "code",
   "execution_count": 51,
   "metadata": {},
   "outputs": [],
   "source": [
    "predicted_stock_price = regressor.predict(X_test)\n",
    "predicted_stock_price = sc.inverse_transform(predicted_stock_price)"
   ]
  },
  {
   "cell_type": "code",
   "execution_count": 52,
   "metadata": {},
   "outputs": [
    {
     "name": "stdout",
     "output_type": "stream",
     "text": [
      "<class 'pandas.core.frame.DataFrame'>\n",
      "RangeIndex: 36 entries, 0 to 35\n",
      "Data columns (total 1 columns):\n",
      " #   Column  Non-Null Count  Dtype  \n",
      "---  ------  --------------  -----  \n",
      " 0   0       36 non-null     float32\n",
      "dtypes: float32(1)\n",
      "memory usage: 272.0 bytes\n"
     ]
    }
   ],
   "source": [
    "predicted_stock_price = pd.DataFrame(predicted_stock_price)\n",
    "predicted_stock_price.info()"
   ]
  },
  {
   "cell_type": "code",
   "execution_count": 53,
   "metadata": {},
   "outputs": [
    {
     "data": {
      "image/png": "[encoded data removed]",
      "text/plain": [
       "<Figure size 432x288 with 1 Axes>"
      ]
     },
     "metadata": {
      "needs_background": "light"
     },
     "output_type": "display_data"
    }
   ],
   "source": [
    "plt.plot(real_stock_price, color = 'red', label = 'Real Apple Stock Price')\n",
    "plt.plot(predicted_stock_price, color = 'blue', label = 'Predicted Apple Stock Price')\n",
    "plt.title('Apple Stock Price Prediction')\n",
    "plt.xlabel('Time')\n",
    "plt.ylabel('Apple Stock Price')\n",
    "plt.legend()\n",
    "plt.show()"
   ]
  },
  {
   "cell_type": "code",
   "execution_count": 54,
   "metadata": {},
   "outputs": [
    {
     "data": {
      "text/plain": [
       "4.422343018682731"
      ]
     },
     "execution_count": 54,
     "metadata": {},
     "output_type": "execute_result"
    }
   ],
   "source": [
    "import math\n",
    "from sklearn.metrics import mean_squared_error\n",
    "math.sqrt(mean_squared_error(real_stock_price, predicted_stock_price))"
   ]
  },
  {
   "cell_type": "code",
   "execution_count": null,
   "metadata": {},
   "outputs": [],
   "source": []
  }
 ],
 "metadata": {
  "kernelspec": {
   "display_name": "Python 3",
   "language": "python",
   "name": "python3"
  },
  "language_info": {
   "codemirror_mode": {
    "name": "ipython",
    "version": 3
   },
   "file_extension": ".py",
   "mimetype": "text/x-python",
   "name": "python",
   "nbconvert_exporter": "python",
   "pygments_lexer": "ipython3",
   "version": "3.7.6"
  }
 },
 "nbformat": 4,
 "nbformat_minor": 4
}
